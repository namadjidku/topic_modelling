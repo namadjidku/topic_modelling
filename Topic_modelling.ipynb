{
 "cells": [
  {
   "cell_type": "markdown",
   "metadata": {},
   "source": [
    "## Step 0: Latent Dirichlet Allocation ##\n",
    "\n",
    "LDA is used to classify text in a document to a particular topic. It builds a topic per document model and words per topic model, modeled as Dirichlet distributions. \n",
    "\n",
    "* Each document is modeled as a multinomial distribution of topics and each topic is modeled as a multinomial distribution of words.\n",
    "* LDA assumes that the every chunk of text we feed into it will contain words that are somehow related. Therefore choosing the right corpus of data is crucial. \n",
    "* It also assumes documents are produced from a mixture of topics. Those topics then generate words based on their probability distribution. "
   ]
  },
  {
   "cell_type": "markdown",
   "metadata": {},
   "source": [
    "## Step 1: Load the dataset\n",
    "\n",
    "The dataset we'll use is a list of over one million news headlines published over a period of 15 years. We'll start by loading it from the `abcnews-date-text.csv` file."
   ]
  },
  {
   "cell_type": "code",
   "execution_count": 2,
   "metadata": {},
   "outputs": [],
   "source": [
    "'''\n",
    "Load the dataset from the CSV and save it to 'data_text'\n",
    "'''\n",
    "import pandas as pd\n",
    "data = pd.read_csv('abcnews-date-text.csv', error_bad_lines=False);\n",
    "# We only need the Headlines text column from the data\n",
    "data_text = data[:300000][['headline_text']];\n",
    "data_text['index'] = data_text.index\n",
    "\n",
    "documents = data_text"
   ]
  },
  {
   "cell_type": "markdown",
   "metadata": {},
   "source": [
    "Let's glance at the dataset:"
   ]
  },
  {
   "cell_type": "code",
   "execution_count": 3,
   "metadata": {},
   "outputs": [
    {
     "name": "stdout",
     "output_type": "stream",
     "text": [
      "300000\n"
     ]
    }
   ],
   "source": [
    "'''\n",
    "Get the total number of documents\n",
    "'''\n",
    "print(len(documents))"
   ]
  },
  {
   "cell_type": "code",
   "execution_count": 4,
   "metadata": {},
   "outputs": [
    {
     "data": {
      "text/html": [
       "<div>\n",
       "<style scoped>\n",
       "    .dataframe tbody tr th:only-of-type {\n",
       "        vertical-align: middle;\n",
       "    }\n",
       "\n",
       "    .dataframe tbody tr th {\n",
       "        vertical-align: top;\n",
       "    }\n",
       "\n",
       "    .dataframe thead th {\n",
       "        text-align: right;\n",
       "    }\n",
       "</style>\n",
       "<table border=\"1\" class=\"dataframe\">\n",
       "  <thead>\n",
       "    <tr style=\"text-align: right;\">\n",
       "      <th></th>\n",
       "      <th>headline_text</th>\n",
       "      <th>index</th>\n",
       "    </tr>\n",
       "  </thead>\n",
       "  <tbody>\n",
       "    <tr>\n",
       "      <th>0</th>\n",
       "      <td>aba decides against community broadcasting lic...</td>\n",
       "      <td>0</td>\n",
       "    </tr>\n",
       "    <tr>\n",
       "      <th>1</th>\n",
       "      <td>act fire witnesses must be aware of defamation</td>\n",
       "      <td>1</td>\n",
       "    </tr>\n",
       "    <tr>\n",
       "      <th>2</th>\n",
       "      <td>a g calls for infrastructure protection summit</td>\n",
       "      <td>2</td>\n",
       "    </tr>\n",
       "    <tr>\n",
       "      <th>3</th>\n",
       "      <td>air nz staff in aust strike for pay rise</td>\n",
       "      <td>3</td>\n",
       "    </tr>\n",
       "    <tr>\n",
       "      <th>4</th>\n",
       "      <td>air nz strike to affect australian travellers</td>\n",
       "      <td>4</td>\n",
       "    </tr>\n",
       "  </tbody>\n",
       "</table>\n",
       "</div>"
      ],
      "text/plain": [
       "                                       headline_text  index\n",
       "0  aba decides against community broadcasting lic...      0\n",
       "1     act fire witnesses must be aware of defamation      1\n",
       "2     a g calls for infrastructure protection summit      2\n",
       "3           air nz staff in aust strike for pay rise      3\n",
       "4      air nz strike to affect australian travellers      4"
      ]
     },
     "execution_count": 4,
     "metadata": {},
     "output_type": "execute_result"
    }
   ],
   "source": [
    "documents[:5]"
   ]
  },
  {
   "cell_type": "markdown",
   "metadata": {},
   "source": [
    "## Step 2: Data Preprocessing ##\n",
    "\n",
    "We will perform the following steps:\n",
    "\n",
    "* **Tokenization**: Split the text into sentences and the sentences into words. Lowercase the words and remove punctuation.\n",
    "* Words that have fewer than 3 characters are removed.\n",
    "* All **stopwords** are removed.\n",
    "* Words are **lemmatized** - words in third person are changed to first person and verbs in past and future tenses are changed into present.\n",
    "* Words are **stemmed** - words are reduced to their root form.\n"
   ]
  },
  {
   "cell_type": "code",
   "execution_count": 7,
   "metadata": {},
   "outputs": [],
   "source": [
    "'''\n",
    "Loading Gensim and nltk libraries\n",
    "'''\n",
    "\n",
    "import gensim\n",
    "from gensim.utils import simple_preprocess\n",
    "from gensim.parsing.preprocessing import STOPWORDS\n",
    "from nltk.stem import WordNetLemmatizer, SnowballStemmer\n",
    "from nltk.stem.porter import *\n",
    "import numpy as np\n",
    "np.random.seed(400)"
   ]
  },
  {
   "cell_type": "code",
   "execution_count": 8,
   "metadata": {},
   "outputs": [
    {
     "name": "stderr",
     "output_type": "stream",
     "text": [
      "[nltk_data] Downloading package wordnet to\n",
      "[nltk_data]     C:\\Users\\user\\AppData\\Roaming\\nltk_data...\n",
      "[nltk_data]   Package wordnet is already up-to-date!\n"
     ]
    },
    {
     "data": {
      "text/plain": [
       "True"
      ]
     },
     "execution_count": 8,
     "metadata": {},
     "output_type": "execute_result"
    }
   ],
   "source": [
    "import nltk\n",
    "nltk.download('wordnet')"
   ]
  },
  {
   "cell_type": "code",
   "execution_count": 13,
   "metadata": {},
   "outputs": [],
   "source": [
    "stemmer = SnowballStemmer(\"english\")"
   ]
  },
  {
   "cell_type": "code",
   "execution_count": 14,
   "metadata": {},
   "outputs": [],
   "source": [
    "def lemmatize_stemming(text):\n",
    "    return stemmer.stem(WordNetLemmatizer().lemmatize(text, pos='v'))\n",
    "\n",
    "# Tokenize and lemmatize\n",
    "def preprocess(text):\n",
    "    result=[]\n",
    "    for token in gensim.utils.simple_preprocess(text) :\n",
    "        if token not in gensim.parsing.preprocessing.STOPWORDS and len(token) > 3:\n",
    "            result.append(lemmatize_stemming(token))\n",
    "            \n",
    "    return result"
   ]
  },
  {
   "cell_type": "code",
   "execution_count": 15,
   "metadata": {},
   "outputs": [
    {
     "name": "stdout",
     "output_type": "stream",
     "text": [
      "Original document: \n",
      "['rain', 'helps', 'dampen', 'bushfires']\n",
      "\n",
      "\n",
      "Tokenized and lemmatized document: \n",
      "['rain', 'help', 'dampen', 'bushfir']\n"
     ]
    }
   ],
   "source": [
    "'''\n",
    "Preview a document after preprocessing\n",
    "'''\n",
    "document_num = 4310\n",
    "doc_sample = documents[documents['index'] == document_num].values[0][0]\n",
    "\n",
    "print(\"Original document: \")\n",
    "words = []\n",
    "for word in doc_sample.split(' '):\n",
    "    words.append(word)\n",
    "print(words)\n",
    "print(\"\\n\\nTokenized and lemmatized document: \")\n",
    "print(preprocess(doc_sample))"
   ]
  },
  {
   "cell_type": "markdown",
   "metadata": {},
   "source": [
    "Let's now preprocess all the news headlines we have. "
   ]
  },
  {
   "cell_type": "code",
   "execution_count": 16,
   "metadata": {},
   "outputs": [],
   "source": [
    "# TODO: preprocess all the headlines, saving the list of results as 'processed_docs'\n",
    "processed_docs = documents.headline_text.map(lambda x : preprocess(x))"
   ]
  },
  {
   "cell_type": "code",
   "execution_count": 17,
   "metadata": {},
   "outputs": [
    {
     "data": {
      "text/plain": [
       "0            [decid, communiti, broadcast, licenc]\n",
       "1                               [wit, awar, defam]\n",
       "2           [call, infrastructur, protect, summit]\n",
       "3                      [staff, aust, strike, rise]\n",
       "4             [strike, affect, australian, travel]\n",
       "5               [ambiti, olsson, win, tripl, jump]\n",
       "6           [antic, delight, record, break, barca]\n",
       "7    [aussi, qualifi, stosur, wast, memphi, match]\n",
       "8            [aust, address, secur, council, iraq]\n",
       "9                         [australia, lock, timet]\n",
       "Name: headline_text, dtype: object"
      ]
     },
     "execution_count": 17,
     "metadata": {},
     "output_type": "execute_result"
    }
   ],
   "source": [
    "'''\n",
    "Preview 'processed_docs'\n",
    "'''\n",
    "processed_docs[:10]"
   ]
  },
  {
   "cell_type": "markdown",
   "metadata": {},
   "source": [
    "## Step 3.1: Bag of words on the dataset\n",
    "\n",
    "Now let's create a dictionary from 'processed_docs' containing the number of times a word appears in the training set. To do that, let's pass `processed_docs` to [`gensim.corpora.Dictionary()`](https://radimrehurek.com/gensim/corpora/dictionary.html) and call it '`dictionary`'."
   ]
  },
  {
   "cell_type": "code",
   "execution_count": 19,
   "metadata": {},
   "outputs": [],
   "source": [
    "'''\n",
    "Create a dictionary from 'processed_docs' containing the number of times a word appears \n",
    "in the training set using gensim.corpora.Dictionary and call it 'dictionary'\n",
    "'''\n",
    "dictionary = gensim.corpora.Dictionary(processed_docs)"
   ]
  },
  {
   "cell_type": "code",
   "execution_count": 20,
   "metadata": {},
   "outputs": [
    {
     "name": "stdout",
     "output_type": "stream",
     "text": [
      "0 broadcast\n",
      "1 communiti\n",
      "2 decid\n",
      "3 licenc\n",
      "4 awar\n",
      "5 defam\n",
      "6 wit\n",
      "7 call\n",
      "8 infrastructur\n",
      "9 protect\n",
      "10 summit\n"
     ]
    }
   ],
   "source": [
    "'''\n",
    "Checking dictionary created\n",
    "'''\n",
    "count = 0\n",
    "for k, v in dictionary.iteritems():\n",
    "    print(k, v)\n",
    "    count += 1\n",
    "    if count > 10:\n",
    "        break"
   ]
  },
  {
   "cell_type": "markdown",
   "metadata": {},
   "source": [
    "** Gensim filter_extremes **\n",
    "\n",
    "[`filter_extremes(no_below=5, no_above=0.5, keep_n=100000)`](https://radimrehurek.com/gensim/corpora/dictionary.html#gensim.corpora.dictionary.Dictionary.filter_extremes)\n",
    "\n",
    "Filter out tokens that appear in\n",
    "\n",
    "* less than no_below documents (absolute number) or\n",
    "* more than no_above documents (fraction of total corpus size, not absolute number).\n",
    "* after (1) and (2), keep only the first keep_n most frequent tokens (or keep all if None)."
   ]
  },
  {
   "cell_type": "code",
   "execution_count": 21,
   "metadata": {},
   "outputs": [],
   "source": [
    "'''\n",
    "OPTIONAL STEP\n",
    "Remove very rare and very common words:\n",
    "\n",
    "- words appearing less than 15 times\n",
    "- words appearing in more than 10% of all documents\n",
    "'''\n",
    "# apply dictionary.filter_extremes() with the parameters mentioned above\n",
    "dictionary.filter_extremes(no_below=15, no_above=0.1)"
   ]
  },
  {
   "cell_type": "markdown",
   "metadata": {},
   "source": [
    "** Gensim doc2bow **\n",
    "\n",
    "[`doc2bow(document)`](https://radimrehurek.com/gensim/corpora/dictionary.html#gensim.corpora.dictionary.Dictionary.doc2bow)\n",
    "\n",
    "* Convert document (a list of words) into the bag-of-words format = list of (token_id, token_count) 2-tuples. Each word is assumed to be a tokenized and normalized string (either unicode or utf8-encoded). No further preprocessing is done on the words in document; apply tokenization, stemming etc. before calling this method."
   ]
  },
  {
   "cell_type": "code",
   "execution_count": 22,
   "metadata": {},
   "outputs": [],
   "source": [
    "'''\n",
    "Create the Bag-of-words model for each document i.e for each document we create a dictionary reporting how many\n",
    "words and how many times those words appear. Save this to 'bow_corpus'\n",
    "'''\n",
    "bow_corpus = [dictionary.doc2bow(v) for k, v in processed_docs.items()]"
   ]
  },
  {
   "cell_type": "code",
   "execution_count": 23,
   "metadata": {},
   "outputs": [
    {
     "name": "stdout",
     "output_type": "stream",
     "text": [
      "Word 71 (\"bushfir\") appears 1 time.\n",
      "Word 107 (\"help\") appears 1 time.\n",
      "Word 462 (\"rain\") appears 1 time.\n",
      "Word 3530 (\"dampen\") appears 1 time.\n"
     ]
    }
   ],
   "source": [
    "'''\n",
    "Preview BOW for our sample preprocessed document\n",
    "'''\n",
    "# Here document_num is document number 4310 which we have checked in Step 2\n",
    "bow_doc_4310 = bow_corpus[document_num]\n",
    "\n",
    "for i in range(len(bow_doc_4310)):\n",
    "    print(\"Word {} (\\\"{}\\\") appears {} time.\".format(bow_doc_4310[i][0], \n",
    "                                                     dictionary[bow_doc_4310[i][0]], \n",
    "                                                     bow_doc_4310[i][1]))"
   ]
  },
  {
   "cell_type": "markdown",
   "metadata": {},
   "source": [
    "## Step 3.2: TF-IDF on our document set ##\n",
    "\n",
    "While performing TF-IDF on the corpus is not necessary for LDA implemention using the gensim model, it is recemmended. TF-IDF expects a bag-of-words (integer values) training corpus during initialization. During transformation, it will take a vector and return another vector of the same dimensionality.\n",
    "\n",
    "*Please note: The author of Gensim dictates the standard procedure for LDA to be using the Bag of Words model.*"
   ]
  },
  {
   "cell_type": "markdown",
   "metadata": {},
   "source": [
    "** TF-IDF stands for \"Term Frequency, Inverse Document Frequency\".**\n",
    "\n",
    "* It is a way to score the importance of words (or \"terms\") in a document based on how frequently they appear across multiple documents.\n",
    "* If a word appears frequently in a document, it's important. Give the word a high score. But if a word appears in many documents, it's not a unique identifier. Give the word a low score.\n",
    "* Therefore, common words like \"the\" and \"for\", which appear in many documents, will be scaled down. Words that appear frequently in a single document will be scaled up.\n",
    "\n",
    "In other words:\n",
    "\n",
    "* TF(w) = `(Number of times term w appears in a document) / (Total number of terms in the document)`.\n",
    "* IDF(w) = `log_e(Total number of documents / Number of documents with term w in it)`.\n",
    "\n",
    "** For example **\n",
    "\n",
    "* Consider a document containing `100` words wherein the word 'tiger' appears 3 times. \n",
    "* The term frequency (i.e., tf) for 'tiger' is then: \n",
    "    - `TF = (3 / 100) = 0.03`. \n",
    "\n",
    "* Now, assume we have `10 million` documents and the word 'tiger' appears in `1000` of these. Then, the inverse document frequency (i.e., idf) is calculated as:\n",
    "    - `IDF = log(10,000,000 / 1,000) = 4`. \n",
    "\n",
    "* Thus, the Tf-idf weight is the product of these quantities: \n",
    "    - `TF-IDF = 0.03 * 4 = 0.12`."
   ]
  },
  {
   "cell_type": "code",
   "execution_count": 24,
   "metadata": {},
   "outputs": [],
   "source": [
    "'''\n",
    "Create tf-idf model object using models.TfidfModel on 'bow_corpus' and save it to 'tfidf'\n",
    "'''\n",
    "from gensim import corpora, models\n",
    "\n",
    "tfidf = models.TfidfModel(bow_corpus)"
   ]
  },
  {
   "cell_type": "code",
   "execution_count": 25,
   "metadata": {},
   "outputs": [],
   "source": [
    "'''\n",
    "Apply transformation to the entire corpus and call it 'corpus_tfidf'\n",
    "'''\n",
    "corpus_tfidf = tfidf[bow_corpus]"
   ]
  },
  {
   "cell_type": "code",
   "execution_count": 26,
   "metadata": {},
   "outputs": [
    {
     "name": "stdout",
     "output_type": "stream",
     "text": [
      "[(0, 0.5959813347777092),\n",
      " (1, 0.39204529549491984),\n",
      " (2, 0.48531419274988147),\n",
      " (3, 0.5055461098578569)]\n"
     ]
    }
   ],
   "source": [
    "'''\n",
    "Preview TF-IDF scores for our first document --> --> (token_id, tfidf score)\n",
    "'''\n",
    "from pprint import pprint\n",
    "for doc in corpus_tfidf:\n",
    "    pprint(doc)\n",
    "    break"
   ]
  },
  {
   "cell_type": "markdown",
   "metadata": {},
   "source": [
    "## Step 4.1: Running LDA using Bag of Words ##\n",
    "\n",
    "We are going for 10 topics in the document corpus.\n",
    "\n",
    "** We will be running LDA using all CPU cores to parallelize and speed up model training.**\n",
    "\n",
    "Some of the parameters we will be tweaking are:\n",
    "\n",
    "* **num_topics** is the number of requested latent topics to be extracted from the training corpus.\n",
    "* **id2word** is a mapping from word ids (integers) to words (strings). It is used to determine the vocabulary size, as well as for debugging and topic printing.\n",
    "* **workers** is the number of extra processes to use for parallelization. Uses all available cores by default.\n",
    "* **alpha** and **eta** are hyperparameters that affect sparsity of the document-topic (theta) and topic-word (lambda) distributions. We will let these be the default values for now(default value is `1/num_topics`)\n",
    "    - Alpha is the per document topic distribution.\n",
    "        * High alpha: Every document has a mixture of all topics(documents appear similar to each other).\n",
    "        * Low alpha: Every document has a mixture of very few topics\n",
    "\n",
    "    - Eta is the per topic word distribution.\n",
    "        * High eta: Each topic has a mixture of most words(topics appear similar to each other).\n",
    "        * Low eta: Each topic has a mixture of few words.\n",
    "\n",
    "* ** passes ** is the number of training passes through the corpus. For  example, if the training corpus has 50,000 documents, chunksize is  10,000, passes is 2, then online training is done in 10 updates: \n",
    "    * `#1 documents 0-9,999 `\n",
    "    * `#2 documents 10,000-19,999 `\n",
    "    * `#3 documents 20,000-29,999 `\n",
    "    * `#4 documents 30,000-39,999 `\n",
    "    * `#5 documents 40,000-49,999 `\n",
    "    * `#6 documents 0-9,999 `\n",
    "    * `#7 documents 10,000-19,999 `\n",
    "    * `#8 documents 20,000-29,999 `\n",
    "    * `#9 documents 30,000-39,999 `\n",
    "    * `#10 documents 40,000-49,999` "
   ]
  },
  {
   "cell_type": "code",
   "execution_count": 27,
   "metadata": {},
   "outputs": [],
   "source": [
    "'''\n",
    "Train your lda model using gensim.models.LdaMulticore and save it to 'lda_model'\n",
    "'''\n",
    "\n",
    "lda_model = gensim.models.LdaMulticore(bow_corpus, \n",
    "                                       num_topics=10, \n",
    "                                       id2word = dictionary, \n",
    "                                       passes = 2, \n",
    "                                       workers=2)"
   ]
  },
  {
   "cell_type": "code",
   "execution_count": 28,
   "metadata": {},
   "outputs": [
    {
     "name": "stdout",
     "output_type": "stream",
     "text": [
      "Topic: 0.024*\"open\" + 0.021*\"test\" + 0.018*\"world\" + 0.017*\"win\" + 0.015*\"lead\" + 0.014*\"south\" + 0.012*\"take\" + 0.012*\"timor\" + 0.011*\"strike\" + 0.011*\"aussi\" \n",
      "Words: 0\n",
      "\n",
      "\n",
      "Topic: 0.034*\"report\" + 0.029*\"help\" + 0.017*\"deal\" + 0.017*\"urg\" + 0.014*\"inquiri\" + 0.014*\"blaze\" + 0.012*\"firefight\" + 0.012*\"close\" + 0.011*\"bushfir\" + 0.011*\"river\" \n",
      "Words: 1\n",
      "\n",
      "\n",
      "Topic: 0.038*\"crash\" + 0.022*\"closer\" + 0.017*\"die\" + 0.017*\"road\" + 0.016*\"coast\" + 0.014*\"train\" + 0.013*\"dead\" + 0.012*\"kill\" + 0.012*\"gold\" + 0.012*\"north\" \n",
      "Words: 2\n",
      "\n",
      "\n",
      "Topic: 0.041*\"plan\" + 0.035*\"council\" + 0.031*\"govt\" + 0.028*\"water\" + 0.017*\"urg\" + 0.016*\"group\" + 0.014*\"fund\" + 0.012*\"chang\" + 0.012*\"concern\" + 0.012*\"consid\" \n",
      "Words: 3\n",
      "\n",
      "\n",
      "Topic: 0.023*\"hospit\" + 0.022*\"labor\" + 0.019*\"defend\" + 0.019*\"elect\" + 0.016*\"protest\" + 0.015*\"minist\" + 0.014*\"work\" + 0.013*\"govt\" + 0.013*\"chief\" + 0.013*\"begin\" \n",
      "Words: 4\n",
      "\n",
      "\n",
      "Topic: 0.045*\"warn\" + 0.019*\"fight\" + 0.017*\"england\" + 0.016*\"year\" + 0.015*\"nuclear\" + 0.014*\"threat\" + 0.014*\"action\" + 0.011*\"iran\" + 0.010*\"say\" + 0.009*\"program\" \n",
      "Words: 5\n",
      "\n",
      "\n",
      "Topic: 0.019*\"school\" + 0.018*\"farmer\" + 0.018*\"drought\" + 0.016*\"price\" + 0.014*\"rise\" + 0.014*\"market\" + 0.013*\"fund\" + 0.013*\"boost\" + 0.012*\"rain\" + 0.012*\"feder\" \n",
      "Words: 6\n",
      "\n",
      "\n",
      "Topic: 0.028*\"iraq\" + 0.018*\"talk\" + 0.016*\"australia\" + 0.015*\"troop\" + 0.012*\"storm\" + 0.012*\"leader\" + 0.011*\"bush\" + 0.011*\"hold\" + 0.010*\"victori\" + 0.010*\"tiger\" \n",
      "Words: 7\n",
      "\n",
      "\n",
      "Topic: 0.073*\"polic\" + 0.031*\"charg\" + 0.027*\"court\" + 0.023*\"face\" + 0.020*\"kill\" + 0.020*\"investig\" + 0.018*\"miss\" + 0.018*\"jail\" + 0.018*\"death\" + 0.018*\"attack\" \n",
      "Words: 8\n",
      "\n",
      "\n",
      "Topic: 0.034*\"claim\" + 0.025*\"opposit\" + 0.021*\"deni\" + 0.020*\"govt\" + 0.018*\"say\" + 0.018*\"break\" + 0.016*\"reject\" + 0.012*\"wont\" + 0.012*\"want\" + 0.011*\"home\" \n",
      "Words: 9\n",
      "\n",
      "\n"
     ]
    }
   ],
   "source": [
    "'''\n",
    "For each topic, we will explore the words occuring in that topic and its relative weight\n",
    "'''\n",
    "for idx, topic in lda_model.print_topics(-1):\n",
    "    print(\"Topic: {} \\nWords: {}\".format(topic, idx ))\n",
    "    print(\"\\n\")"
   ]
  },
  {
   "cell_type": "markdown",
   "metadata": {},
   "source": [
    "## Step 4.2 Running LDA using TF-IDF ##"
   ]
  },
  {
   "cell_type": "code",
   "execution_count": 29,
   "metadata": {},
   "outputs": [],
   "source": [
    "'''\n",
    "Define lda model using corpus_tfidf, again using gensim.models.LdaMulticore()\n",
    "'''\n",
    "lda_model_tfidf = gensim.models.LdaMulticore(corpus_tfidf, \n",
    "                                       num_topics=10, \n",
    "                                       id2word = dictionary, \n",
    "                                       passes = 2, \n",
    "                                       workers=2)"
   ]
  },
  {
   "cell_type": "code",
   "execution_count": 30,
   "metadata": {},
   "outputs": [
    {
     "name": "stdout",
     "output_type": "stream",
     "text": [
      "Topic: 0 Word: 0.026*\"charg\" + 0.023*\"polic\" + 0.017*\"court\" + 0.015*\"murder\" + 0.014*\"jail\" + 0.012*\"face\" + 0.011*\"assault\" + 0.011*\"arrest\" + 0.010*\"investig\" + 0.010*\"drug\"\n",
      "\n",
      "\n",
      "Topic: 1 Word: 0.010*\"drought\" + 0.008*\"farmer\" + 0.007*\"damag\" + 0.007*\"rain\" + 0.007*\"indonesian\" + 0.006*\"fish\" + 0.006*\"flood\" + 0.006*\"illeg\" + 0.006*\"bring\" + 0.005*\"rat\"\n",
      "\n",
      "\n",
      "Topic: 2 Word: 0.017*\"blaze\" + 0.013*\"firefight\" + 0.010*\"climat\" + 0.008*\"crew\" + 0.007*\"reach\" + 0.007*\"qanta\" + 0.007*\"battl\" + 0.007*\"withdraw\" + 0.006*\"polit\" + 0.006*\"contain\"\n",
      "\n",
      "\n",
      "Topic: 3 Word: 0.011*\"price\" + 0.010*\"drink\" + 0.008*\"doubt\" + 0.007*\"clean\" + 0.007*\"lebanon\" + 0.007*\"quit\" + 0.007*\"worri\" + 0.006*\"sell\" + 0.006*\"lake\" + 0.006*\"black\"\n",
      "\n",
      "\n",
      "Topic: 4 Word: 0.010*\"gold\" + 0.008*\"solomon\" + 0.008*\"bodi\" + 0.007*\"indigen\" + 0.007*\"coast\" + 0.007*\"iemma\" + 0.007*\"fiji\" + 0.006*\"beach\" + 0.006*\"closur\" + 0.006*\"news\"\n",
      "\n",
      "\n",
      "Topic: 5 Word: 0.013*\"rudd\" + 0.010*\"farm\" + 0.008*\"shortag\" + 0.008*\"sentenc\" + 0.007*\"rural\" + 0.007*\"wind\" + 0.006*\"violenc\" + 0.006*\"south\" + 0.006*\"speed\" + 0.006*\"revamp\"\n",
      "\n",
      "\n",
      "Topic: 6 Word: 0.009*\"murray\" + 0.008*\"water\" + 0.008*\"elect\" + 0.008*\"west\" + 0.007*\"river\" + 0.007*\"liber\" + 0.007*\"uranium\" + 0.007*\"central\" + 0.006*\"upgrad\" + 0.006*\"hill\"\n",
      "\n",
      "\n",
      "Topic: 7 Word: 0.023*\"kill\" + 0.023*\"crash\" + 0.014*\"search\" + 0.014*\"miss\" + 0.011*\"die\" + 0.009*\"polic\" + 0.009*\"dead\" + 0.009*\"iraq\" + 0.009*\"troop\" + 0.009*\"injur\"\n",
      "\n",
      "\n",
      "Topic: 8 Word: 0.011*\"nuclear\" + 0.008*\"grower\" + 0.007*\"open\" + 0.007*\"nurs\" + 0.007*\"korea\" + 0.007*\"poll\" + 0.007*\"bird\" + 0.006*\"victori\" + 0.006*\"australia\" + 0.006*\"iran\"\n",
      "\n",
      "\n",
      "Topic: 9 Word: 0.024*\"closer\" + 0.015*\"govt\" + 0.012*\"water\" + 0.012*\"plan\" + 0.012*\"council\" + 0.010*\"fund\" + 0.009*\"urg\" + 0.008*\"opposit\" + 0.007*\"group\" + 0.006*\"reject\"\n",
      "\n",
      "\n"
     ]
    }
   ],
   "source": [
    "'''\n",
    "For each topic, we will explore the words occuring in that topic and its relative weight\n",
    "'''\n",
    "for idx, topic in lda_model_tfidf.print_topics(-1):\n",
    "    print(\"Topic: {} Word: {}\".format(idx, topic))\n",
    "    print(\"\\n\")"
   ]
  },
  {
   "cell_type": "markdown",
   "metadata": {},
   "source": [
    "## Step 5.1: Performance evaluation by classifying sample document using LDA Bag of Words model##\n",
    "\n",
    "We will check to see where our test document would be classified. "
   ]
  },
  {
   "cell_type": "code",
   "execution_count": 37,
   "metadata": {},
   "outputs": [
    {
     "data": {
      "text/plain": [
       "'rain helps dampen bushfires'"
      ]
     },
     "execution_count": 37,
     "metadata": {},
     "output_type": "execute_result"
    }
   ],
   "source": [
    "documents.loc[4310]['headline_text']"
   ]
  },
  {
   "cell_type": "code",
   "execution_count": 37,
   "metadata": {},
   "outputs": [
    {
     "data": {
      "text/plain": [
       "['rain', 'help', 'dampen', 'bushfir']"
      ]
     },
     "execution_count": 37,
     "metadata": {},
     "output_type": "execute_result"
    }
   ],
   "source": [
    "'''\n",
    "Text of sample document 4310\n",
    "'''\n",
    "processed_docs[4310]"
   ]
  },
  {
   "cell_type": "code",
   "execution_count": 38,
   "metadata": {},
   "outputs": [
    {
     "name": "stdout",
     "output_type": "stream",
     "text": [
      "\n",
      "Score: 0.619939923286438\t \n",
      "Topic: 0.034*\"report\" + 0.029*\"help\" + 0.017*\"deal\" + 0.017*\"urg\" + 0.014*\"inquiri\" + 0.014*\"blaze\" + 0.012*\"firefight\" + 0.012*\"close\" + 0.011*\"bushfir\" + 0.011*\"river\"\n",
      "\n",
      "Score: 0.22004538774490356\t \n",
      "Topic: 0.019*\"school\" + 0.018*\"farmer\" + 0.018*\"drought\" + 0.016*\"price\" + 0.014*\"rise\" + 0.014*\"market\" + 0.013*\"fund\" + 0.013*\"boost\" + 0.012*\"rain\" + 0.012*\"feder\"\n",
      "\n",
      "Score: 0.020001837983727455\t \n",
      "Topic: 0.024*\"open\" + 0.021*\"test\" + 0.018*\"world\" + 0.017*\"win\" + 0.015*\"lead\" + 0.014*\"south\" + 0.012*\"take\" + 0.012*\"timor\" + 0.011*\"strike\" + 0.011*\"aussi\"\n",
      "\n",
      "Score: 0.020001837983727455\t \n",
      "Topic: 0.038*\"crash\" + 0.022*\"closer\" + 0.017*\"die\" + 0.017*\"road\" + 0.016*\"coast\" + 0.014*\"train\" + 0.013*\"dead\" + 0.012*\"kill\" + 0.012*\"gold\" + 0.012*\"north\"\n",
      "\n",
      "Score: 0.020001837983727455\t \n",
      "Topic: 0.041*\"plan\" + 0.035*\"council\" + 0.031*\"govt\" + 0.028*\"water\" + 0.017*\"urg\" + 0.016*\"group\" + 0.014*\"fund\" + 0.012*\"chang\" + 0.012*\"concern\" + 0.012*\"consid\"\n",
      "\n",
      "Score: 0.020001837983727455\t \n",
      "Topic: 0.023*\"hospit\" + 0.022*\"labor\" + 0.019*\"defend\" + 0.019*\"elect\" + 0.016*\"protest\" + 0.015*\"minist\" + 0.014*\"work\" + 0.013*\"govt\" + 0.013*\"chief\" + 0.013*\"begin\"\n",
      "\n",
      "Score: 0.020001837983727455\t \n",
      "Topic: 0.045*\"warn\" + 0.019*\"fight\" + 0.017*\"england\" + 0.016*\"year\" + 0.015*\"nuclear\" + 0.014*\"threat\" + 0.014*\"action\" + 0.011*\"iran\" + 0.010*\"say\" + 0.009*\"program\"\n",
      "\n",
      "Score: 0.020001837983727455\t \n",
      "Topic: 0.028*\"iraq\" + 0.018*\"talk\" + 0.016*\"australia\" + 0.015*\"troop\" + 0.012*\"storm\" + 0.012*\"leader\" + 0.011*\"bush\" + 0.011*\"hold\" + 0.010*\"victori\" + 0.010*\"tiger\"\n",
      "\n",
      "Score: 0.020001837983727455\t \n",
      "Topic: 0.073*\"polic\" + 0.031*\"charg\" + 0.027*\"court\" + 0.023*\"face\" + 0.020*\"kill\" + 0.020*\"investig\" + 0.018*\"miss\" + 0.018*\"jail\" + 0.018*\"death\" + 0.018*\"attack\"\n",
      "\n",
      "Score: 0.020001837983727455\t \n",
      "Topic: 0.034*\"claim\" + 0.025*\"opposit\" + 0.021*\"deni\" + 0.020*\"govt\" + 0.018*\"say\" + 0.018*\"break\" + 0.016*\"reject\" + 0.012*\"wont\" + 0.012*\"want\" + 0.011*\"home\"\n"
     ]
    }
   ],
   "source": [
    "'''\n",
    "Check which topic our test document belongs to using the LDA Bag of Words model.\n",
    "'''\n",
    "document_num = 4310\n",
    "# Our test document is document number 4310\n",
    "\n",
    "# Our test document is document number 4310\n",
    "for index, score in sorted(lda_model[bow_corpus[document_num]], key=lambda tup: -1*tup[1]):\n",
    "    print(\"\\nScore: {}\\t \\nTopic: {}\".format(score, lda_model.print_topic(index, 10)))"
   ]
  },
  {
   "cell_type": "markdown",
   "metadata": {},
   "source": [
    "### It has the highest probability (0.61) to be  part of the topic related to bushfires"
   ]
  },
  {
   "cell_type": "markdown",
   "metadata": {},
   "source": [
    "## Step 5.2: Performance evaluation by classifying sample document using LDA TF-IDF model##"
   ]
  },
  {
   "cell_type": "code",
   "execution_count": 39,
   "metadata": {},
   "outputs": [
    {
     "name": "stdout",
     "output_type": "stream",
     "text": [
      "\n",
      "Score: 0.5715880990028381\t \n",
      "Topic: 0.010*\"drought\" + 0.008*\"farmer\" + 0.007*\"damag\" + 0.007*\"rain\" + 0.007*\"indonesian\" + 0.006*\"fish\" + 0.006*\"flood\" + 0.006*\"illeg\" + 0.006*\"bring\" + 0.005*\"rat\"\n",
      "\n",
      "Score: 0.2683572769165039\t \n",
      "Topic: 0.026*\"charg\" + 0.023*\"polic\" + 0.017*\"court\" + 0.015*\"murder\" + 0.014*\"jail\" + 0.012*\"face\" + 0.011*\"assault\" + 0.011*\"arrest\" + 0.010*\"investig\" + 0.010*\"drug\"\n",
      "\n",
      "Score: 0.02000804804265499\t \n",
      "Topic: 0.017*\"blaze\" + 0.013*\"firefight\" + 0.010*\"climat\" + 0.008*\"crew\" + 0.007*\"reach\" + 0.007*\"qanta\" + 0.007*\"battl\" + 0.007*\"withdraw\" + 0.006*\"polit\" + 0.006*\"contain\"\n",
      "\n",
      "Score: 0.020007845014333725\t \n",
      "Topic: 0.024*\"closer\" + 0.015*\"govt\" + 0.012*\"water\" + 0.012*\"plan\" + 0.012*\"council\" + 0.010*\"fund\" + 0.009*\"urg\" + 0.008*\"opposit\" + 0.007*\"group\" + 0.006*\"reject\"\n",
      "\n",
      "Score: 0.020006971433758736\t \n",
      "Topic: 0.013*\"rudd\" + 0.010*\"farm\" + 0.008*\"shortag\" + 0.008*\"sentenc\" + 0.007*\"rural\" + 0.007*\"wind\" + 0.006*\"violenc\" + 0.006*\"south\" + 0.006*\"speed\" + 0.006*\"revamp\"\n",
      "\n",
      "Score: 0.02000688575208187\t \n",
      "Topic: 0.010*\"gold\" + 0.008*\"solomon\" + 0.008*\"bodi\" + 0.007*\"indigen\" + 0.007*\"coast\" + 0.007*\"iemma\" + 0.007*\"fiji\" + 0.006*\"beach\" + 0.006*\"closur\" + 0.006*\"news\"\n",
      "\n",
      "Score: 0.020006872713565826\t \n",
      "Topic: 0.009*\"murray\" + 0.008*\"water\" + 0.008*\"elect\" + 0.008*\"west\" + 0.007*\"river\" + 0.007*\"liber\" + 0.007*\"uranium\" + 0.007*\"central\" + 0.006*\"upgrad\" + 0.006*\"hill\"\n",
      "\n",
      "Score: 0.02000635676085949\t \n",
      "Topic: 0.011*\"price\" + 0.010*\"drink\" + 0.008*\"doubt\" + 0.007*\"clean\" + 0.007*\"lebanon\" + 0.007*\"quit\" + 0.007*\"worri\" + 0.006*\"sell\" + 0.006*\"lake\" + 0.006*\"black\"\n",
      "\n",
      "Score: 0.020006107166409492\t \n",
      "Topic: 0.011*\"nuclear\" + 0.008*\"grower\" + 0.007*\"open\" + 0.007*\"nurs\" + 0.007*\"korea\" + 0.007*\"poll\" + 0.007*\"bird\" + 0.006*\"victori\" + 0.006*\"australia\" + 0.006*\"iran\"\n",
      "\n",
      "Score: 0.02000552974641323\t \n",
      "Topic: 0.023*\"kill\" + 0.023*\"crash\" + 0.014*\"search\" + 0.014*\"miss\" + 0.011*\"die\" + 0.009*\"polic\" + 0.009*\"dead\" + 0.009*\"iraq\" + 0.009*\"troop\" + 0.009*\"injur\"\n"
     ]
    }
   ],
   "source": [
    "'''\n",
    "Check which topic our test document belongs to using the LDA TF-IDF model.\n",
    "'''\n",
    "# Our test document is document number 4310\n",
    "for index, score in sorted(lda_model_tfidf[bow_corpus[document_num]], key=lambda tup: -1*tup[1]):\n",
    "    print(\"\\nScore: {}\\t \\nTopic: {}\".format(score, lda_model_tfidf.print_topic(index, 10)))"
   ]
  },
  {
   "cell_type": "markdown",
   "metadata": {},
   "source": [
    "## Step 6: Testing model on unseen document ##"
   ]
  },
  {
   "cell_type": "code",
   "execution_count": 42,
   "metadata": {},
   "outputs": [
    {
     "name": "stdout",
     "output_type": "stream",
     "text": [
      "Score: 0.42000216245651245\t Topic: 0.024*\"open\" + 0.021*\"test\" + 0.018*\"world\" + 0.017*\"win\" + 0.015*\"lead\"\n",
      "Score: 0.22001101076602936\t Topic: 0.028*\"iraq\" + 0.018*\"talk\" + 0.016*\"australia\" + 0.015*\"troop\" + 0.012*\"storm\"\n",
      "Score: 0.21994002163410187\t Topic: 0.023*\"hospit\" + 0.022*\"labor\" + 0.019*\"defend\" + 0.019*\"elect\" + 0.016*\"protest\"\n",
      "Score: 0.02000878006219864\t Topic: 0.045*\"warn\" + 0.019*\"fight\" + 0.017*\"england\" + 0.016*\"year\" + 0.015*\"nuclear\"\n",
      "Score: 0.020008543506264687\t Topic: 0.041*\"plan\" + 0.035*\"council\" + 0.031*\"govt\" + 0.028*\"water\" + 0.017*\"urg\"\n",
      "Score: 0.020007207989692688\t Topic: 0.019*\"school\" + 0.018*\"farmer\" + 0.018*\"drought\" + 0.016*\"price\" + 0.014*\"rise\"\n",
      "Score: 0.020005645230412483\t Topic: 0.038*\"crash\" + 0.022*\"closer\" + 0.017*\"die\" + 0.017*\"road\" + 0.016*\"coast\"\n",
      "Score: 0.02000560238957405\t Topic: 0.034*\"report\" + 0.029*\"help\" + 0.017*\"deal\" + 0.017*\"urg\" + 0.014*\"inquiri\"\n",
      "Score: 0.020005488768219948\t Topic: 0.073*\"polic\" + 0.031*\"charg\" + 0.027*\"court\" + 0.023*\"face\" + 0.020*\"kill\"\n",
      "Score: 0.020005488768219948\t Topic: 0.034*\"claim\" + 0.025*\"opposit\" + 0.021*\"deni\" + 0.020*\"govt\" + 0.018*\"say\"\n"
     ]
    }
   ],
   "source": [
    "unseen_document = \"My favorite sports activities are running and swimming.\"\n",
    "\n",
    "# Data preprocessing step for the unseen document\n",
    "bow_vector = dictionary.doc2bow(preprocess(unseen_document))\n",
    "\n",
    "for index, score in sorted(lda_model[bow_vector], key=lambda tup: -1*tup[1]):\n",
    "    print(\"Score: {}\\t Topic: {}\".format(score, lda_model.print_topic(index, 5)))"
   ]
  },
  {
   "cell_type": "code",
   "execution_count": null,
   "metadata": {},
   "outputs": [],
   "source": []
  }
 ],
 "metadata": {
  "kernelspec": {
   "display_name": "Python 3",
   "language": "python",
   "name": "python3"
  },
  "language_info": {
   "codemirror_mode": {
    "name": "ipython",
    "version": 3
   },
   "file_extension": ".py",
   "mimetype": "text/x-python",
   "name": "python",
   "nbconvert_exporter": "python",
   "pygments_lexer": "ipython3",
   "version": "3.7.1"
  }
 },
 "nbformat": 4,
 "nbformat_minor": 1
}
